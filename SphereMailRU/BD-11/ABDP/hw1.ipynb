{
 "cells": [
  {
   "cell_type": "markdown",
   "metadata": {},
   "source": [
    "**Общая информация**\n",
    "\n",
    "**Срок сдачи:** 13 марта 2017, 06:00 <br\\>\n",
    "**Штраф за опоздание:** -2 балла после 06:00 13 марта, -4 балла после 06:00 20 марта, -6 баллов после 06:00 27 марта\n",
    "\n",
    "При отправлении ДЗ указывайте фамилию в названии файла\n",
    "Присылать ДЗ необходимо в виде ссылки на свой github репозиторий в slack @alkhamush\n",
    "\n",
    "Необходимо в slack создать таск в приватный чат:\n",
    "/todo Фамилия Имя ссылка на гитхаб @alkhamush\n",
    "Пример:\n",
    "/todo Ксения Стройкова https://github.com/stroykova/spheremailru/stroykova_hw1.ipynb @alkhamush\n",
    "\n",
    "Используйте данный Ipython Notebook при оформлении домашнего задания."
   ]
  },
  {
   "cell_type": "markdown",
   "metadata": {},
   "source": [
    "###### Задание 1 (2 баллов)\n",
    "Реализовать KNN в классе MyKNeighborsClassifier (обязательное условие: точность не ниже sklearn реализации)\n",
    "Разберитесь самостоятельно, какая мера расстояния используется в KNeighborsClassifier дефолтно и реализуйте свой алгоритм именно с этой мерой. Самостоятельно разберитесь, как считается score из KNeighborsClassifier и реализуйте аналог в своём классе.\n",
    "\n",
    "###### Задание 2 (2 балла)\n",
    "Добиться скорости работы на fit,  predict и predict_proba сравнимой со sklearn 4 балла для iris и mnist\n",
    "Для этого используем numpy\n",
    "\n",
    "###### Задание 3 (2 балла)\n",
    "Для iris найдите такой параметр n_neighbors, при котором выдаётся наилучший score. Нарисуйте график зависимости score от n_neighbors\n",
    "\n",
    "###### Задание 3 (2 балла)\n",
    "Выполнить требования pep8\n",
    "\n",
    "###### Задание 5 (2 балла)\n",
    "Описать для чего нужны следующие библиотеки/классы/функции (список будет ниже)\n"
   ]
  },
  {
   "cell_type": "code",
   "execution_count": 409,
   "metadata": {},
   "outputs": [
    {
     "name": "stdout",
     "output_type": "stream",
     "text": [
      "The pycodestyle_magic extension is already loaded. To reload it, use:\n",
      "  %reload_ext pycodestyle_magic\n"
     ]
    }
   ],
   "source": [
    "import numpy as np\n",
    "import matplotlib.pyplot as plt\n",
    "\n",
    "from line_profiler import LineProfiler\n",
    "from sklearn.metrics.pairwise import pairwise_distances\n",
    "\n",
    "import seaborn as sns\n",
    "from sklearn import datasets\n",
    "from sklearn.base import ClassifierMixin\n",
    "from sklearn.datasets import fetch_mldata\n",
    "from sklearn.neighbors.base import NeighborsBase, KNeighborsMixin, SupervisedIntegerMixin \n",
    "from sklearn.model_selection import train_test_split\n",
    "from sklearn.neighbors import KNeighborsClassifier\n",
    "%load_ext pycodestyle_magic"
   ]
  },
  {
   "cell_type": "code",
   "execution_count": 410,
   "metadata": {},
   "outputs": [],
   "source": [
    "def profile_print(func_to_call, *args):\n",
    "    profiler = LineProfiler()\n",
    "    profiler.add_function(func_to_call)\n",
    "    profiler.runcall(func_to_call, *args)\n",
    "    profiler.print_stats()"
   ]
  },
  {
   "cell_type": "code",
   "execution_count": 523,
   "metadata": {},
   "outputs": [],
   "source": [
    "%%pycodestyle\n",
    "\n",
    "\n",
    "class MyKNeighborsClassifier(NeighborsBase, KNeighborsMixin,\n",
    "                             SupervisedIntegerMixin, ClassifierMixin):\n",
    "\n",
    "    def __init__(self, n_neighbors=3):\n",
    "        self.n_neighbors = n_neighbors\n",
    "\n",
    "    def fit(self, X, y):\n",
    "        self.X = np.float64(X)\n",
    "        self.classes, self.y = np.unique(y, return_inverse=True)\n",
    "\n",
    "    def euclidean_metric(self, v):\n",
    "        return np.sqrt(((self.X - v) ** 2).sum(axis=1))\n",
    "\n",
    "    '''\n",
    "    def cnt(self, v):\n",
    "        z = np.zeros(self.classes.size)\n",
    "        for i in v:\n",
    "            z[i] += 1\n",
    "        return z\n",
    "\n",
    "    def predict_proba(self, X): # more understandable\n",
    "        X = np.float64(X)\n",
    "        # euclidean by default, can use multithreading\n",
    "        dist = pairwise_distances(X, self.X)\n",
    "        ind = np.argsort(dist, axis=1)[:, :self.n_neighbors]\n",
    "        return np.apply_along_axis(self.cnt, 1, self.y[ind]) / self.n_neighbors\n",
    "    '''\n",
    "\n",
    "    # '''\n",
    "    def predict_proba(self, X):  # more quickly\n",
    "        X = np.float64(X)\n",
    "        # euclidean by default, can use multithreading\n",
    "        dist = pairwise_distances(X, self.X)\n",
    "        ind = np.argsort(dist, axis=1)[:, :self.n_neighbors]\n",
    "        classes = self.y[ind]\n",
    "        crange = np.arange(self.classes.shape[0])\n",
    "        clss = classes.reshape((classes.shape[0], 1, classes.shape[1]))\n",
    "        crng = crange.reshape((1, crange.shape[0], 1))\n",
    "        counts = np.sum(clss == crng, axis=2)\n",
    "        return counts / self.n_neighbors\n",
    "    # '''\n",
    "\n",
    "    def predict(self, X):\n",
    "        proba = self.predict_proba(X)\n",
    "        return self.classes[np.argsort(proba, axis=1)[:, -1]]\n",
    "\n",
    "    def score(self, X, y):\n",
    "        pred = self.predict(X)\n",
    "        return 1 - np.count_nonzero(y - pred) / y.shape[0]\n"
   ]
  },
  {
   "cell_type": "code",
   "execution_count": null,
   "metadata": {},
   "outputs": [],
   "source": []
  },
  {
   "cell_type": "markdown",
   "metadata": {},
   "source": [
    "**IRIS**"
   ]
  },
  {
   "cell_type": "code",
   "execution_count": 492,
   "metadata": {},
   "outputs": [],
   "source": [
    "iris = datasets.load_iris()"
   ]
  },
  {
   "cell_type": "code",
   "execution_count": 499,
   "metadata": {},
   "outputs": [],
   "source": [
    "X_train, X_test, y_train, y_test = train_test_split(iris.data, iris.target, test_size=0.1, stratify=iris.target)"
   ]
  },
  {
   "cell_type": "code",
   "execution_count": null,
   "metadata": {},
   "outputs": [],
   "source": []
  },
  {
   "cell_type": "code",
   "execution_count": 500,
   "metadata": {},
   "outputs": [],
   "source": [
    "clf = KNeighborsClassifier(n_neighbors=17)\n",
    "my_clf = MyKNeighborsClassifier(n_neighbors=17)"
   ]
  },
  {
   "cell_type": "code",
   "execution_count": 501,
   "metadata": {},
   "outputs": [
    {
     "name": "stdout",
     "output_type": "stream",
     "text": [
      "CPU times: user 0 ns, sys: 0 ns, total: 0 ns\n",
      "Wall time: 830 µs\n"
     ]
    },
    {
     "data": {
      "text/plain": [
       "KNeighborsClassifier(algorithm='auto', leaf_size=30, metric='minkowski',\n",
       "           metric_params=None, n_jobs=1, n_neighbors=17, p=2,\n",
       "           weights='uniform')"
      ]
     },
     "execution_count": 501,
     "metadata": {},
     "output_type": "execute_result"
    }
   ],
   "source": [
    "%time clf.fit(X_train, y_train)"
   ]
  },
  {
   "cell_type": "code",
   "execution_count": 502,
   "metadata": {},
   "outputs": [
    {
     "name": "stdout",
     "output_type": "stream",
     "text": [
      "CPU times: user 0 ns, sys: 0 ns, total: 0 ns\n",
      "Wall time: 128 µs\n"
     ]
    }
   ],
   "source": [
    "%time my_clf.fit(X_train, y_train)"
   ]
  },
  {
   "cell_type": "code",
   "execution_count": 481,
   "metadata": {},
   "outputs": [
    {
     "name": "stdout",
     "output_type": "stream",
     "text": [
      "CPU times: user 0 ns, sys: 0 ns, total: 0 ns\n",
      "Wall time: 1.04 ms\n"
     ]
    },
    {
     "data": {
      "text/plain": [
       "array([2, 2, 0, 1, 0, 0, 1, 1, 0, 2, 2, 0, 1, 1, 2])"
      ]
     },
     "execution_count": 481,
     "metadata": {},
     "output_type": "execute_result"
    }
   ],
   "source": [
    "%time clf.predict(X_test)"
   ]
  },
  {
   "cell_type": "code",
   "execution_count": 482,
   "metadata": {},
   "outputs": [
    {
     "name": "stdout",
     "output_type": "stream",
     "text": [
      "CPU times: user 0 ns, sys: 0 ns, total: 0 ns\n",
      "Wall time: 1.9 ms\n"
     ]
    },
    {
     "data": {
      "text/plain": [
       "array([2, 2, 0, 1, 0, 0, 1, 1, 0, 2, 2, 0, 1, 1, 2])"
      ]
     },
     "execution_count": 482,
     "metadata": {},
     "output_type": "execute_result"
    }
   ],
   "source": [
    "%time my_clf.predict(X_test)\n",
    "#profile_print(my_clf.predict, X_test)"
   ]
  },
  {
   "cell_type": "code",
   "execution_count": 483,
   "metadata": {},
   "outputs": [
    {
     "name": "stdout",
     "output_type": "stream",
     "text": [
      "CPU times: user 0 ns, sys: 0 ns, total: 0 ns\n",
      "Wall time: 2.05 ms\n"
     ]
    },
    {
     "data": {
      "text/plain": [
       "array([[ 0.        ,  0.05882353,  0.94117647],\n",
       "       [ 0.        ,  0.05882353,  0.94117647],\n",
       "       [ 1.        ,  0.        ,  0.        ],\n",
       "       [ 0.        ,  0.82352941,  0.17647059],\n",
       "       [ 1.        ,  0.        ,  0.        ],\n",
       "       [ 1.        ,  0.        ,  0.        ],\n",
       "       [ 0.        ,  1.        ,  0.        ],\n",
       "       [ 0.        ,  0.76470588,  0.23529412],\n",
       "       [ 1.        ,  0.        ,  0.        ],\n",
       "       [ 0.        ,  0.05882353,  0.94117647],\n",
       "       [ 0.        ,  0.        ,  1.        ],\n",
       "       [ 1.        ,  0.        ,  0.        ],\n",
       "       [ 0.        ,  0.70588235,  0.29411765],\n",
       "       [ 0.        ,  0.52941176,  0.47058824],\n",
       "       [ 0.        ,  0.        ,  1.        ]])"
      ]
     },
     "execution_count": 483,
     "metadata": {},
     "output_type": "execute_result"
    }
   ],
   "source": [
    "%time clf.predict_proba(X_test)"
   ]
  },
  {
   "cell_type": "code",
   "execution_count": 503,
   "metadata": {},
   "outputs": [
    {
     "name": "stdout",
     "output_type": "stream",
     "text": [
      "Timer unit: 1e-06 s\n",
      "\n",
      "Total time: 0.00168 s\n",
      "File: <ipython-input-498-1b8f7775bb20>\n",
      "Function: predict_proba at line 32\n",
      "\n",
      "Line #      Hits         Time  Per Hit   % Time  Line Contents\n",
      "==============================================================\n",
      "    32                                               def predict_proba(self, X):\n",
      "    33         1            9      9.0      0.5          X = np.float64(X)\n",
      "    34         1         1062   1062.0     63.2          dist = pairwise_distances(X, self.X)\n",
      "    35         1          462    462.0     27.5          ind = np.argsort(dist, axis=1)[:, :self.n_neighbors]\n",
      "    36         1           21     21.0      1.2          classes = self.y[ind]\n",
      "    37         1           12     12.0      0.7          crange = np.arange(self.classes.shape[0])\n",
      "    38         1            7      7.0      0.4          clss = classes.reshape((classes.shape[0], 1, classes.shape[1]))\n",
      "    39         1            4      4.0      0.2          crng = crange.reshape((1, crange.shape[0], 1))\n",
      "    40         1           85     85.0      5.1          counts = np.sum(clss == crng, axis=2)\n",
      "    41         1           18     18.0      1.1          return counts / self.n_neighbors\n",
      "\n"
     ]
    }
   ],
   "source": [
    "#%time my_clf.predict_proba(X_test)\n",
    "profile_print(my_clf.predict_proba, X_test)"
   ]
  },
  {
   "cell_type": "code",
   "execution_count": 485,
   "metadata": {},
   "outputs": [
    {
     "data": {
      "text/plain": [
       "1.0"
      ]
     },
     "execution_count": 485,
     "metadata": {},
     "output_type": "execute_result"
    }
   ],
   "source": [
    "clf.score(X_test, y_test)"
   ]
  },
  {
   "cell_type": "code",
   "execution_count": 486,
   "metadata": {},
   "outputs": [
    {
     "data": {
      "text/plain": [
       "1.0"
      ]
     },
     "execution_count": 486,
     "metadata": {},
     "output_type": "execute_result"
    }
   ],
   "source": [
    "my_clf.score(X_test, y_test)"
   ]
  },
  {
   "cell_type": "code",
   "execution_count": 442,
   "metadata": {},
   "outputs": [
    {
     "name": "stdout",
     "output_type": "stream",
     "text": [
      "1\n",
      "2\n",
      "3\n",
      "4\n",
      "5\n",
      "6\n",
      "7\n",
      "8\n",
      "9\n",
      "10\n",
      "11\n",
      "12\n",
      "13\n",
      "14\n",
      "15\n",
      "16\n",
      "17\n",
      "18\n",
      "19\n",
      "20\n",
      "21\n",
      "22\n",
      "23\n",
      "24\n",
      "25\n",
      "26\n",
      "27\n",
      "28\n",
      "29\n",
      "30\n"
     ]
    },
    {
     "data": {
      "image/png": "[encoded data removed]",
      "text/plain": [
       "<Figure size 432x288 with 1 Axes>"
      ]
     },
     "metadata": {},
     "output_type": "display_data"
    }
   ],
   "source": [
    "# Задание 3\n",
    "# 16 - 17\n",
    "num_n = 30\n",
    "num_av = 2000\n",
    "scm = np.zeros(num_n)\n",
    "sc = np.zeros(num_av)\n",
    "for n in range(1, num_n + 1):\n",
    "    print (n)\n",
    "    for i in range(num_av):\n",
    "        X_train, X_test, y_train, y_test = train_test_split(iris.data, iris.target, test_size=0.1, stratify=iris.target)\n",
    "        my_clf = MyKNeighborsClassifier(n_neighbors=n)\n",
    "        my_clf.fit(X_train, y_train)\n",
    "        sc[i] = my_clf.score(X_test, y_test)\n",
    "    scm[n - 1] = sc.mean()\n",
    "plt.plot(range(1, num_n + 1), scm, 'ro-')\n",
    "plt.show()"
   ]
  },
  {
   "cell_type": "markdown",
   "metadata": {},
   "source": [
    "**MNIST**"
   ]
  },
  {
   "cell_type": "code",
   "execution_count": 443,
   "metadata": {},
   "outputs": [],
   "source": [
    "mnist = fetch_mldata('MNIST original')"
   ]
  },
  {
   "cell_type": "code",
   "execution_count": 504,
   "metadata": {},
   "outputs": [],
   "source": [
    "X_train, X_test, y_train, y_test = train_test_split(mnist.data, mnist.target, test_size=0.01, stratify=mnist.target)"
   ]
  },
  {
   "cell_type": "code",
   "execution_count": 505,
   "metadata": {},
   "outputs": [
    {
     "data": {
      "text/plain": [
       "(69300,)"
      ]
     },
     "execution_count": 505,
     "metadata": {},
     "output_type": "execute_result"
    }
   ],
   "source": [
    "y_train.shape"
   ]
  },
  {
   "cell_type": "code",
   "execution_count": 446,
   "metadata": {},
   "outputs": [],
   "source": [
    "clf = KNeighborsClassifier(n_neighbors=5)"
   ]
  },
  {
   "cell_type": "code",
   "execution_count": 506,
   "metadata": {},
   "outputs": [],
   "source": [
    "my_clf = MyKNeighborsClassifier(n_neighbors=5)"
   ]
  },
  {
   "cell_type": "code",
   "execution_count": 448,
   "metadata": {},
   "outputs": [
    {
     "name": "stdout",
     "output_type": "stream",
     "text": [
      "CPU times: user 47.1 s, sys: 1.55 s, total: 48.7 s\n",
      "Wall time: 54.6 s\n"
     ]
    },
    {
     "data": {
      "text/plain": [
       "KNeighborsClassifier(algorithm='auto', leaf_size=30, metric='minkowski',\n",
       "           metric_params=None, n_jobs=1, n_neighbors=5, p=2,\n",
       "           weights='uniform')"
      ]
     },
     "execution_count": 448,
     "metadata": {},
     "output_type": "execute_result"
    }
   ],
   "source": [
    "%time clf.fit(X_train, y_train)"
   ]
  },
  {
   "cell_type": "code",
   "execution_count": 507,
   "metadata": {},
   "outputs": [
    {
     "name": "stdout",
     "output_type": "stream",
     "text": [
      "CPU times: user 125 ms, sys: 406 ms, total: 531 ms\n",
      "Wall time: 620 ms\n"
     ]
    }
   ],
   "source": [
    "%time my_clf.fit(X_train, y_train)"
   ]
  },
  {
   "cell_type": "code",
   "execution_count": 450,
   "metadata": {},
   "outputs": [
    {
     "name": "stdout",
     "output_type": "stream",
     "text": [
      "CPU times: user 1min 41s, sys: 234 ms, total: 1min 41s\n",
      "Wall time: 1min 51s\n"
     ]
    },
    {
     "data": {
      "text/plain": [
       "array([ 1.,  1.,  5.,  6.,  4.,  8.,  4.,  9.,  8.,  4.,  3.,  2.,  9.,\n",
       "        5.,  9.,  7.,  0.,  7.,  9.,  5.,  1.,  3.,  0.,  8.,  3.,  7.,\n",
       "        4.,  7.,  0.,  6.,  6.,  8.,  7.,  6.,  3.,  9.,  4.,  7.,  0.,\n",
       "        7.,  3.,  0.,  5.,  2.,  3.,  1.,  9.,  1.,  9.,  3.,  0.,  1.,\n",
       "        1.,  8.,  0.,  9.,  9.,  8.,  5.,  0.,  6.,  2.,  7.,  8.,  8.,\n",
       "        6.,  7.,  2.,  7.,  2.,  3.,  9.,  3.,  0.,  4.,  5.,  9.,  8.,\n",
       "        9.,  3.,  4.,  5.,  2.,  2.,  9.,  7.,  2.,  7.,  6.,  6.,  5.,\n",
       "        9.,  6.,  1.,  9.,  8.,  1.,  6.,  2.,  1.,  4.,  7.,  3.,  3.,\n",
       "        9.,  0.,  4.,  5.,  9.,  4.,  1.,  5.,  4.,  8.,  0.,  6.,  8.,\n",
       "        3.,  0.,  8.,  0.,  6.,  9.,  9.,  5.,  9.,  6.,  8.,  2.,  8.,\n",
       "        2.,  1.,  3.,  8.,  4.,  3.,  5.,  7.,  4.,  0.,  2.,  2.,  9.,\n",
       "        0.,  0.,  6.,  2.,  4.,  0.,  8.,  4.,  6.,  3.,  1.,  5.,  7.,\n",
       "        5.,  5.,  3.,  9.,  3.,  0.,  8.,  5.,  1.,  9.,  5.,  8.,  7.,\n",
       "        4.,  4.,  9.,  2.,  9.,  7.,  8.,  7.,  8.,  3.,  9.,  7.,  2.,\n",
       "        3.,  2.,  9.,  1.,  2.,  9.,  1.,  3.,  7.,  6.,  0.,  1.,  6.,\n",
       "        4.,  9.,  1.,  2.,  9.,  3.,  0.,  6.,  2.,  1.,  0.,  0.,  7.,\n",
       "        0.,  7.,  5.,  9.,  8.,  9.,  9.,  7.,  2.,  8.,  7.,  6.,  3.,\n",
       "        7.,  1.,  6.,  1.,  4.,  7.,  4.,  5.,  2.,  5.,  6.,  7.,  6.,\n",
       "        4.,  4.,  2.,  4.,  5.,  5.,  8.,  2.,  4.,  4.,  1.,  3.,  0.,\n",
       "        5.,  0.,  6.,  4.,  3.,  3.,  1.,  7.,  1.,  1.,  4.,  0.,  2.,\n",
       "        7.,  3.,  3.,  7.,  4.,  3.,  8.,  0.,  1.,  8.,  3.,  4.,  5.,\n",
       "        1.,  4.,  2.,  1.,  5.,  3.,  7.,  3.,  1.,  3.,  0.,  6.,  1.,\n",
       "        2.,  1.,  5.,  4.,  3.,  1.,  6.,  2.,  3.,  7.,  4.,  3.,  5.,\n",
       "        3.,  8.,  2.,  9.,  2.,  2.,  9.,  6.,  7.,  8.,  6.,  2.,  3.,\n",
       "        1.,  1.,  2.,  7.,  0.,  1.,  4.,  7.,  4.,  7.,  5.,  5.,  0.,\n",
       "        4.,  4.,  0.,  6.,  6.,  0.,  7.,  1.,  7.,  2.,  2.,  2.,  6.,\n",
       "        6.,  3.,  5.,  1.,  2.,  3.,  7.,  3.,  2.,  4.,  5.,  0.,  0.,\n",
       "        9.,  2.,  1.,  1.,  1.,  7.,  4.,  1.,  1.,  8.,  4.,  7.,  2.,\n",
       "        0.,  5.,  3.,  4.,  8.,  4.,  4.,  5.,  1.,  5.,  6.,  4.,  7.,\n",
       "        6.,  7.,  8.,  8.,  6.,  8.,  1.,  9.,  3.,  8.,  1.,  7.,  9.,\n",
       "        3.,  1.,  7.,  7.,  0.,  0.,  1.,  2.,  4.,  2.,  9.,  8.,  4.,\n",
       "        9.,  1.,  3.,  7.,  2.,  1.,  9.,  5.,  8.,  0.,  6.,  5.,  2.,\n",
       "        8.,  9.,  3.,  8.,  9.,  1.,  0.,  3.,  6.,  2.,  2.,  8.,  1.,\n",
       "        6.,  3.,  4.,  9.,  0.,  6.,  1.,  6.,  3.,  8.,  1.,  0.,  3.,\n",
       "        8.,  0.,  6.,  9.,  3.,  6.,  5.,  2.,  9.,  3.,  5.,  3.,  2.,\n",
       "        7.,  0.,  5.,  9.,  1.,  8.,  1.,  5.,  7.,  7.,  1.,  0.,  6.,\n",
       "        2.,  6.,  6.,  6.,  0.,  0.,  1.,  8.,  0.,  3.,  4.,  8.,  7.,\n",
       "        2.,  9.,  7.,  3.,  7.,  7.,  1.,  7.,  6.,  4.,  5.,  7.,  0.,\n",
       "        2.,  8.,  4.,  2.,  7.,  2.,  7.,  2.,  8.,  6.,  4.,  4.,  1.,\n",
       "        7.,  9.,  4.,  2.,  7.,  1.,  2.,  8.,  1.,  8.,  9.,  6.,  0.,\n",
       "        9.,  8.,  5.,  6.,  9.,  1.,  0.,  1.,  2.,  7.,  8.,  6.,  4.,\n",
       "        7.,  5.,  3.,  4.,  2.,  4.,  9.,  3.,  3.,  8.,  7.,  7.,  9.,\n",
       "        7.,  9.,  3.,  1.,  8.,  0.,  8.,  9.,  5.,  1.,  2.,  0.,  8.,\n",
       "        6.,  5.,  0.,  1.,  4.,  3.,  3.,  9.,  1.,  3.,  4.,  9.,  4.,\n",
       "        5.,  5.,  6.,  3.,  6.,  4.,  5.,  9.,  0.,  6.,  5.,  0.,  5.,\n",
       "        8.,  1.,  6.,  1.,  5.,  6.,  9.,  1.,  2.,  9.,  6.,  2.,  5.,\n",
       "        6.,  4.,  0.,  8.,  0.,  1.,  2.,  6.,  2.,  0.,  8.,  5.,  1.,\n",
       "        6.,  3.,  0.,  7.,  1.,  1.,  5.,  9.,  8.,  6.,  2.,  9.,  5.,\n",
       "        4.,  5.,  1.,  9.,  8.,  7.,  8.,  5.,  1.,  6.,  9.,  0.,  9.,\n",
       "        1.,  3.,  0.,  2.,  5.,  6.,  8.,  8.,  0.,  0.,  6.,  1.,  8.,\n",
       "        8.,  6.,  0.,  9.,  9.,  6.,  1.,  3.,  6.,  1.,  2.,  8.,  1.,\n",
       "        9.,  5.,  3.,  8.,  2.,  4.,  3.,  0.,  6.,  1.,  4.,  4.,  7.,\n",
       "        8.,  7.,  4.,  4.,  0.,  2.,  5.,  5.,  1.,  5.,  3.,  1.,  6.,\n",
       "        2.,  6.,  9.,  0.,  9.,  1.,  0.,  1.,  2.,  4.,  2.])"
      ]
     },
     "execution_count": 450,
     "metadata": {},
     "output_type": "execute_result"
    }
   ],
   "source": [
    "%time clf.predict(X_test)"
   ]
  },
  {
   "cell_type": "code",
   "execution_count": 451,
   "metadata": {},
   "outputs": [
    {
     "name": "stdout",
     "output_type": "stream",
     "text": [
      "CPU times: user 9.33 s, sys: 859 ms, total: 10.2 s\n",
      "Wall time: 11 s\n"
     ]
    },
    {
     "data": {
      "text/plain": [
       "array([ 1.,  1.,  5.,  6.,  4.,  8.,  4.,  9.,  8.,  4.,  3.,  2.,  9.,\n",
       "        5.,  9.,  7.,  0.,  7.,  9.,  5.,  1.,  3.,  0.,  8.,  3.,  7.,\n",
       "        4.,  7.,  0.,  6.,  6.,  8.,  7.,  6.,  3.,  9.,  4.,  7.,  0.,\n",
       "        7.,  3.,  0.,  5.,  2.,  3.,  1.,  9.,  1.,  9.,  3.,  0.,  1.,\n",
       "        1.,  8.,  0.,  9.,  9.,  8.,  5.,  0.,  6.,  2.,  7.,  8.,  8.,\n",
       "        6.,  7.,  2.,  7.,  2.,  3.,  9.,  3.,  0.,  4.,  5.,  9.,  8.,\n",
       "        9.,  3.,  4.,  5.,  2.,  2.,  9.,  7.,  2.,  7.,  6.,  6.,  5.,\n",
       "        9.,  6.,  1.,  9.,  8.,  1.,  6.,  2.,  1.,  4.,  7.,  3.,  3.,\n",
       "        9.,  0.,  4.,  5.,  9.,  4.,  3.,  5.,  4.,  8.,  0.,  6.,  8.,\n",
       "        3.,  0.,  8.,  0.,  6.,  9.,  9.,  7.,  9.,  6.,  8.,  2.,  8.,\n",
       "        2.,  1.,  3.,  8.,  4.,  3.,  5.,  7.,  4.,  0.,  2.,  2.,  9.,\n",
       "        0.,  0.,  6.,  2.,  4.,  0.,  8.,  4.,  6.,  3.,  1.,  5.,  7.,\n",
       "        5.,  5.,  3.,  9.,  3.,  0.,  8.,  5.,  1.,  9.,  5.,  8.,  7.,\n",
       "        4.,  4.,  9.,  2.,  9.,  7.,  8.,  7.,  8.,  3.,  9.,  7.,  2.,\n",
       "        3.,  2.,  9.,  1.,  2.,  9.,  1.,  3.,  7.,  6.,  0.,  1.,  6.,\n",
       "        4.,  9.,  1.,  2.,  9.,  3.,  0.,  6.,  2.,  1.,  0.,  0.,  7.,\n",
       "        0.,  7.,  5.,  9.,  8.,  9.,  9.,  7.,  2.,  8.,  7.,  6.,  3.,\n",
       "        7.,  4.,  6.,  1.,  4.,  7.,  4.,  5.,  6.,  5.,  6.,  7.,  6.,\n",
       "        4.,  4.,  2.,  4.,  5.,  5.,  8.,  2.,  4.,  4.,  1.,  3.,  0.,\n",
       "        5.,  0.,  6.,  4.,  3.,  3.,  1.,  7.,  1.,  1.,  4.,  0.,  2.,\n",
       "        7.,  3.,  3.,  7.,  4.,  3.,  8.,  0.,  1.,  8.,  3.,  4.,  5.,\n",
       "        1.,  4.,  2.,  1.,  5.,  3.,  7.,  3.,  1.,  3.,  0.,  6.,  1.,\n",
       "        2.,  1.,  5.,  4.,  3.,  1.,  6.,  2.,  3.,  7.,  4.,  3.,  5.,\n",
       "        3.,  8.,  2.,  9.,  2.,  2.,  9.,  6.,  7.,  8.,  6.,  2.,  3.,\n",
       "        1.,  1.,  2.,  7.,  0.,  1.,  4.,  7.,  4.,  7.,  5.,  5.,  0.,\n",
       "        4.,  4.,  0.,  6.,  6.,  0.,  7.,  1.,  7.,  2.,  2.,  2.,  6.,\n",
       "        6.,  3.,  5.,  1.,  2.,  3.,  7.,  3.,  2.,  4.,  5.,  0.,  0.,\n",
       "        9.,  2.,  1.,  1.,  1.,  7.,  4.,  1.,  1.,  8.,  4.,  7.,  2.,\n",
       "        0.,  5.,  3.,  4.,  8.,  4.,  4.,  5.,  1.,  5.,  6.,  4.,  7.,\n",
       "        6.,  7.,  8.,  8.,  6.,  8.,  1.,  9.,  3.,  8.,  1.,  7.,  9.,\n",
       "        3.,  1.,  7.,  7.,  0.,  0.,  1.,  2.,  4.,  2.,  9.,  8.,  4.,\n",
       "        9.,  1.,  3.,  7.,  2.,  1.,  9.,  5.,  8.,  0.,  6.,  5.,  2.,\n",
       "        8.,  9.,  3.,  8.,  9.,  1.,  0.,  3.,  6.,  2.,  2.,  8.,  1.,\n",
       "        6.,  3.,  4.,  9.,  0.,  6.,  1.,  6.,  3.,  8.,  1.,  0.,  3.,\n",
       "        8.,  0.,  6.,  9.,  3.,  6.,  5.,  2.,  9.,  3.,  5.,  3.,  2.,\n",
       "        7.,  0.,  5.,  9.,  1.,  8.,  1.,  5.,  7.,  7.,  1.,  0.,  6.,\n",
       "        2.,  6.,  6.,  6.,  0.,  0.,  1.,  8.,  0.,  3.,  4.,  8.,  7.,\n",
       "        2.,  9.,  7.,  3.,  7.,  7.,  1.,  7.,  6.,  4.,  5.,  7.,  0.,\n",
       "        2.,  8.,  4.,  2.,  7.,  2.,  7.,  2.,  8.,  6.,  4.,  4.,  1.,\n",
       "        7.,  9.,  4.,  2.,  7.,  1.,  2.,  8.,  1.,  8.,  9.,  6.,  0.,\n",
       "        9.,  8.,  5.,  6.,  9.,  1.,  0.,  1.,  2.,  7.,  8.,  6.,  4.,\n",
       "        7.,  5.,  3.,  4.,  2.,  4.,  9.,  3.,  3.,  8.,  7.,  7.,  9.,\n",
       "        7.,  9.,  3.,  1.,  8.,  0.,  8.,  9.,  5.,  1.,  2.,  0.,  8.,\n",
       "        6.,  5.,  0.,  1.,  4.,  3.,  3.,  9.,  1.,  3.,  4.,  9.,  4.,\n",
       "        5.,  5.,  6.,  3.,  6.,  4.,  5.,  9.,  0.,  6.,  5.,  0.,  5.,\n",
       "        8.,  1.,  6.,  1.,  5.,  6.,  9.,  1.,  2.,  9.,  6.,  2.,  5.,\n",
       "        6.,  4.,  0.,  8.,  0.,  1.,  2.,  6.,  2.,  0.,  8.,  5.,  1.,\n",
       "        6.,  3.,  0.,  7.,  1.,  1.,  5.,  9.,  8.,  6.,  2.,  9.,  5.,\n",
       "        4.,  5.,  1.,  9.,  8.,  7.,  8.,  5.,  1.,  6.,  9.,  0.,  9.,\n",
       "        1.,  3.,  0.,  2.,  5.,  6.,  8.,  8.,  0.,  0.,  6.,  1.,  8.,\n",
       "        8.,  6.,  0.,  9.,  9.,  6.,  1.,  3.,  6.,  1.,  2.,  8.,  1.,\n",
       "        9.,  5.,  3.,  8.,  2.,  4.,  3.,  0.,  6.,  1.,  4.,  4.,  7.,\n",
       "        8.,  7.,  4.,  4.,  0.,  2.,  5.,  5.,  1.,  5.,  3.,  1.,  6.,\n",
       "        2.,  6.,  9.,  0.,  9.,  1.,  0.,  1.,  2.,  4.,  2.])"
      ]
     },
     "execution_count": 451,
     "metadata": {},
     "output_type": "execute_result"
    }
   ],
   "source": [
    "%time my_clf.predict(X_test)"
   ]
  },
  {
   "cell_type": "code",
   "execution_count": 452,
   "metadata": {},
   "outputs": [
    {
     "name": "stdout",
     "output_type": "stream",
     "text": [
      "CPU times: user 1min 40s, sys: 250 ms, total: 1min 40s\n",
      "Wall time: 1min 51s\n"
     ]
    },
    {
     "data": {
      "text/plain": [
       "array([[ 0.,  1.,  0., ...,  0.,  0.,  0.],\n",
       "       [ 0.,  1.,  0., ...,  0.,  0.,  0.],\n",
       "       [ 0.,  0.,  0., ...,  0.,  0.,  0.],\n",
       "       ..., \n",
       "       [ 0.,  0.,  1., ...,  0.,  0.,  0.],\n",
       "       [ 0.,  0.,  0., ...,  0.,  0.,  0.],\n",
       "       [ 0.,  0.,  1., ...,  0.,  0.,  0.]])"
      ]
     },
     "execution_count": 452,
     "metadata": {},
     "output_type": "execute_result"
    }
   ],
   "source": [
    "%time clf.predict_proba(X_test)"
   ]
  },
  {
   "cell_type": "code",
   "execution_count": 508,
   "metadata": {},
   "outputs": [
    {
     "name": "stdout",
     "output_type": "stream",
     "text": [
      "Timer unit: 1e-06 s\n",
      "\n",
      "Total time: 9.78467 s\n",
      "File: <ipython-input-498-1b8f7775bb20>\n",
      "Function: predict_proba at line 32\n",
      "\n",
      "Line #      Hits         Time  Per Hit   % Time  Line Contents\n",
      "==============================================================\n",
      "    32                                               def predict_proba(self, X):\n",
      "    33         1         1492   1492.0      0.0          X = np.float64(X)\n",
      "    34         1      2772950 2772950.0     28.3          dist = pairwise_distances(X, self.X)\n",
      "    35         1      7009591 7009591.0     71.6          ind = np.argsort(dist, axis=1)[:, :self.n_neighbors]\n",
      "    36         1          165    165.0      0.0          classes = self.y[ind]\n",
      "    37         1           13     13.0      0.0          crange = np.arange(self.classes.shape[0])\n",
      "    38         1           20     20.0      0.0          clss = classes.reshape((classes.shape[0], 1, classes.shape[1]))\n",
      "    39         1            2      2.0      0.0          crng = crange.reshape((1, crange.shape[0], 1))\n",
      "    40         1          405    405.0      0.0          counts = np.sum(clss == crng, axis=2)\n",
      "    41         1           27     27.0      0.0          return counts / self.n_neighbors\n",
      "\n",
      "CPU times: user 9.86 s, sys: 906 ms, total: 10.8 s\n",
      "Wall time: 9.91 s\n"
     ]
    }
   ],
   "source": [
    "#%time my_clf.predict_proba(X_test)\n",
    "%time profile_print(my_clf.predict_proba, X_test)"
   ]
  },
  {
   "cell_type": "code",
   "execution_count": 454,
   "metadata": {},
   "outputs": [
    {
     "data": {
      "text/plain": [
       "0.97285714285714286"
      ]
     },
     "execution_count": 454,
     "metadata": {},
     "output_type": "execute_result"
    }
   ],
   "source": [
    "clf.score(X_test, y_test)"
   ]
  },
  {
   "cell_type": "code",
   "execution_count": 455,
   "metadata": {},
   "outputs": [
    {
     "data": {
      "text/plain": [
       "0.9757142857142858"
      ]
     },
     "execution_count": 455,
     "metadata": {},
     "output_type": "execute_result"
    }
   ],
   "source": [
    "my_clf.score(X_test, y_test)"
   ]
  },
  {
   "cell_type": "code",
   "execution_count": 393,
   "metadata": {},
   "outputs": [
    {
     "name": "stdout",
     "output_type": "stream",
     "text": [
      "1\n",
      "1   0\n",
      "1   1\n",
      "1   2\n",
      "1   3\n",
      "1   4\n",
      "1   5\n",
      "1   6\n",
      "1   7\n",
      "1   8\n",
      "1   9\n",
      "1   10\n",
      "1   11\n",
      "1   12\n",
      "1   13\n",
      "1   14\n",
      "1   15\n",
      "1   16\n",
      "1   17\n",
      "1   18\n",
      "1   19\n",
      "2\n",
      "2   0\n",
      "2   1\n",
      "2   2\n",
      "2   3\n",
      "2   4\n",
      "2   5\n",
      "2   6\n",
      "2   7\n",
      "2   8\n",
      "2   9\n",
      "2   10\n",
      "2   11\n",
      "2   12\n",
      "2   13\n",
      "2   14\n",
      "2   15\n",
      "2   16\n",
      "2   17\n",
      "2   18\n",
      "2   19\n",
      "3\n",
      "3   0\n",
      "3   1\n",
      "3   2\n",
      "3   3\n",
      "3   4\n",
      "3   5\n",
      "3   6\n",
      "3   7\n",
      "3   8\n",
      "3   9\n",
      "3   10\n",
      "3   11\n",
      "3   12\n",
      "3   13\n",
      "3   14\n",
      "3   15\n",
      "3   16\n",
      "3   17\n",
      "3   18\n",
      "3   19\n",
      "4\n",
      "4   0\n",
      "4   1\n",
      "4   2\n",
      "4   3\n",
      "4   4\n",
      "4   5\n",
      "4   6\n",
      "4   7\n",
      "4   8\n",
      "4   9\n",
      "4   10\n",
      "4   11\n",
      "4   12\n",
      "4   13\n",
      "4   14\n",
      "4   15\n",
      "4   16\n",
      "4   17\n",
      "4   18\n",
      "4   19\n",
      "5\n",
      "5   0\n",
      "5   1\n",
      "5   2\n",
      "5   3\n",
      "5   4\n",
      "5   5\n",
      "5   6\n",
      "5   7\n",
      "5   8\n",
      "5   9\n",
      "5   10\n",
      "5   11\n",
      "5   12\n",
      "5   13\n",
      "5   14\n",
      "5   15\n",
      "5   16\n",
      "5   17\n",
      "5   18\n",
      "5   19\n",
      "6\n",
      "6   0\n",
      "6   1\n",
      "6   2\n",
      "6   3\n",
      "6   4\n",
      "6   5\n",
      "6   6\n",
      "6   7\n",
      "6   8\n",
      "6   9\n",
      "6   10\n",
      "6   11\n",
      "6   12\n",
      "6   13\n",
      "6   14\n",
      "6   15\n",
      "6   16\n",
      "6   17\n",
      "6   18\n",
      "6   19\n",
      "7\n",
      "7   0\n",
      "7   1\n",
      "7   2\n",
      "7   3\n",
      "7   4\n",
      "7   5\n",
      "7   6\n",
      "7   7\n",
      "7   8\n",
      "7   9\n",
      "7   10\n",
      "7   11\n",
      "7   12\n",
      "7   13\n",
      "7   14\n",
      "7   15\n",
      "7   16\n",
      "7   17\n",
      "7   18\n",
      "7   19\n",
      "8\n",
      "8   0\n",
      "8   1\n",
      "8   2\n",
      "8   3\n",
      "8   4\n",
      "8   5\n",
      "8   6\n",
      "8   7\n",
      "8   8\n",
      "8   9\n",
      "8   10\n",
      "8   11\n",
      "8   12\n",
      "8   13\n",
      "8   14\n",
      "8   15\n",
      "8   16\n",
      "8   17\n",
      "8   18\n",
      "8   19\n",
      "9\n",
      "9   0\n",
      "9   1\n",
      "9   2\n",
      "9   3\n",
      "9   4\n",
      "9   5\n",
      "9   6\n",
      "9   7\n",
      "9   8\n",
      "9   9\n",
      "9   10\n",
      "9   11\n",
      "9   12\n",
      "9   13\n",
      "9   14\n",
      "9   15\n",
      "9   16\n",
      "9   17\n",
      "9   18\n",
      "9   19\n",
      "10\n",
      "10   0\n",
      "10   1\n",
      "10   2\n",
      "10   3\n",
      "10   4\n",
      "10   5\n",
      "10   6\n",
      "10   7\n",
      "10   8\n",
      "10   9\n",
      "10   10\n",
      "10   11\n",
      "10   12\n",
      "10   13\n",
      "10   14\n",
      "10   15\n",
      "10   16\n",
      "10   17\n",
      "10   18\n",
      "10   19\n",
      "11\n",
      "11   0\n",
      "11   1\n",
      "11   2\n",
      "11   3\n",
      "11   4\n",
      "11   5\n",
      "11   6\n",
      "11   7\n",
      "11   8\n",
      "11   9\n",
      "11   10\n",
      "11   11\n",
      "11   12\n",
      "11   13\n",
      "11   14\n",
      "11   15\n",
      "11   16\n",
      "11   17\n",
      "11   18\n",
      "11   19\n",
      "12\n",
      "12   0\n",
      "12   1\n",
      "12   2\n",
      "12   3\n",
      "12   4\n",
      "12   5\n",
      "12   6\n",
      "12   7\n",
      "12   8\n",
      "12   9\n",
      "12   10\n",
      "12   11\n",
      "12   12\n",
      "12   13\n",
      "12   14\n",
      "12   15\n",
      "12   16\n",
      "12   17\n",
      "12   18\n",
      "12   19\n",
      "13\n",
      "13   0\n",
      "13   1\n",
      "13   2\n",
      "13   3\n",
      "13   4\n",
      "13   5\n",
      "13   6\n",
      "13   7\n",
      "13   8\n",
      "13   9\n",
      "13   10\n",
      "13   11\n",
      "13   12\n",
      "13   13\n",
      "13   14\n",
      "13   15\n",
      "13   16\n",
      "13   17\n",
      "13   18\n",
      "13   19\n",
      "14\n",
      "14   0\n",
      "14   1\n",
      "14   2\n",
      "14   3\n",
      "14   4\n",
      "14   5\n",
      "14   6\n",
      "14   7\n",
      "14   8\n",
      "14   9\n",
      "14   10\n",
      "14   11\n",
      "14   12\n",
      "14   13\n",
      "14   14\n",
      "14   15\n",
      "14   16\n",
      "14   17\n",
      "14   18\n",
      "14   19\n",
      "15\n",
      "15   0\n",
      "15   1\n",
      "15   2\n",
      "15   3\n",
      "15   4\n",
      "15   5\n",
      "15   6\n",
      "15   7\n",
      "15   8\n",
      "15   9\n",
      "15   10\n",
      "15   11\n",
      "15   12\n",
      "15   13\n",
      "15   14\n",
      "15   15\n",
      "15   16\n",
      "15   17\n",
      "15   18\n",
      "15   19\n",
      "16\n",
      "16   0\n",
      "16   1\n",
      "16   2\n",
      "16   3\n",
      "16   4\n",
      "16   5\n",
      "16   6\n",
      "16   7\n",
      "16   8\n",
      "16   9\n",
      "16   10\n",
      "16   11\n",
      "16   12\n",
      "16   13\n",
      "16   14\n",
      "16   15\n",
      "16   16\n",
      "16   17\n",
      "16   18\n",
      "16   19\n",
      "17\n",
      "17   0\n",
      "17   1\n",
      "17   2\n",
      "17   3\n",
      "17   4\n",
      "17   5\n",
      "17   6\n",
      "17   7\n",
      "17   8\n",
      "17   9\n",
      "17   10\n",
      "17   11\n",
      "17   12\n",
      "17   13\n",
      "17   14\n",
      "17   15\n",
      "17   16\n",
      "17   17\n",
      "17   18\n",
      "17   19\n",
      "18\n",
      "18   0\n",
      "18   1\n",
      "18   2\n",
      "18   3\n",
      "18   4\n",
      "18   5\n",
      "18   6\n",
      "18   7\n",
      "18   8\n",
      "18   9\n",
      "18   10\n",
      "18   11\n",
      "18   12\n",
      "18   13\n",
      "18   14\n",
      "18   15\n",
      "18   16\n",
      "18   17\n",
      "18   18\n",
      "18   19\n",
      "19\n",
      "19   0\n",
      "19   1\n",
      "19   2\n",
      "19   3\n",
      "19   4\n",
      "19   5\n",
      "19   6\n",
      "19   7\n",
      "19   8\n",
      "19   9\n",
      "19   10\n",
      "19   11\n",
      "19   12\n",
      "19   13\n",
      "19   14\n",
      "19   15\n",
      "19   16\n",
      "19   17\n",
      "19   18\n",
      "19   19\n",
      "20\n",
      "20   0\n",
      "20   1\n",
      "20   2\n",
      "20   3\n",
      "20   4\n",
      "20   5\n",
      "20   6\n",
      "20   7\n",
      "20   8\n",
      "20   9\n",
      "20   10\n",
      "20   11\n",
      "20   12\n",
      "20   13\n",
      "20   14\n",
      "20   15\n",
      "20   16\n",
      "20   17\n",
      "20   18\n",
      "20   19\n",
      "21\n",
      "21   0\n",
      "21   1\n",
      "21   2\n",
      "21   3\n",
      "21   4\n",
      "21   5\n",
      "21   6\n",
      "21   7\n",
      "21   8\n",
      "21   9\n",
      "21   10\n",
      "21   11\n",
      "21   12\n",
      "21   13\n",
      "21   14\n",
      "21   15\n",
      "21   16\n",
      "21   17\n",
      "21   18\n",
      "21   19\n",
      "22\n",
      "22   0\n",
      "22   1\n",
      "22   2\n",
      "22   3\n",
      "22   4\n",
      "22   5\n",
      "22   6\n",
      "22   7\n",
      "22   8\n",
      "22   9\n",
      "22   10\n",
      "22   11\n",
      "22   12\n",
      "22   13\n",
      "22   14\n",
      "22   15\n",
      "22   16\n",
      "22   17\n",
      "22   18\n",
      "22   19\n",
      "23\n",
      "23   0\n",
      "23   1\n",
      "23   2\n",
      "23   3\n",
      "23   4\n",
      "23   5\n",
      "23   6\n",
      "23   7\n",
      "23   8\n",
      "23   9\n",
      "23   10\n",
      "23   11\n",
      "23   12\n",
      "23   13\n",
      "23   14\n",
      "23   15\n",
      "23   16\n",
      "23   17\n",
      "23   18\n",
      "23   19\n",
      "24\n",
      "24   0\n",
      "24   1\n",
      "24   2\n",
      "24   3\n",
      "24   4\n",
      "24   5\n",
      "24   6\n",
      "24   7\n",
      "24   8\n",
      "24   9\n",
      "24   10\n",
      "24   11\n",
      "24   12\n",
      "24   13\n",
      "24   14\n",
      "24   15\n",
      "24   16\n",
      "24   17\n",
      "24   18\n",
      "24   19\n",
      "25\n",
      "25   0\n",
      "25   1\n",
      "25   2\n",
      "25   3\n",
      "25   4\n",
      "25   5\n",
      "25   6\n",
      "25   7\n",
      "25   8\n",
      "25   9\n",
      "25   10\n",
      "25   11\n",
      "25   12\n",
      "25   13\n",
      "25   14\n",
      "25   15\n",
      "25   16\n",
      "25   17\n",
      "25   18\n",
      "25   19\n",
      "26\n",
      "26   0\n",
      "26   1\n",
      "26   2\n",
      "26   3\n",
      "26   4\n",
      "26   5\n",
      "26   6\n",
      "26   7\n",
      "26   8\n",
      "26   9\n",
      "26   10\n",
      "26   11\n",
      "26   12\n",
      "26   13\n",
      "26   14\n",
      "26   15\n",
      "26   16\n",
      "26   17\n",
      "26   18\n",
      "26   19\n",
      "27\n",
      "27   0\n",
      "27   1\n",
      "27   2\n",
      "27   3\n",
      "27   4\n",
      "27   5\n",
      "27   6\n",
      "27   7\n",
      "27   8\n",
      "27   9\n",
      "27   10\n",
      "27   11\n",
      "27   12\n",
      "27   13\n",
      "27   14\n",
      "27   15\n",
      "27   16\n",
      "27   17\n",
      "27   18\n",
      "27   19\n",
      "28\n",
      "28   0\n",
      "28   1\n",
      "28   2\n",
      "28   3\n",
      "28   4\n",
      "28   5\n",
      "28   6\n",
      "28   7\n",
      "28   8\n",
      "28   9\n",
      "28   10\n",
      "28   11\n",
      "28   12\n",
      "28   13\n",
      "28   14\n",
      "28   15\n",
      "28   16\n",
      "28   17\n",
      "28   18\n",
      "28   19\n",
      "29\n",
      "29   0\n",
      "29   1\n",
      "29   2\n",
      "29   3\n",
      "29   4\n",
      "29   5\n",
      "29   6\n",
      "29   7\n",
      "29   8\n",
      "29   9\n",
      "29   10\n",
      "29   11\n",
      "29   12\n",
      "29   13\n",
      "29   14\n",
      "29   15\n",
      "29   16\n",
      "29   17\n",
      "29   18\n",
      "29   19\n",
      "30\n",
      "30   0\n",
      "30   1\n",
      "30   2\n",
      "30   3\n",
      "30   4\n",
      "30   5\n",
      "30   6\n",
      "30   7\n",
      "30   8\n",
      "30   9\n",
      "30   10\n",
      "30   11\n",
      "30   12\n",
      "30   13\n",
      "30   14\n",
      "30   15\n",
      "30   16\n",
      "30   17\n",
      "30   18\n",
      "30   19\n"
     ]
    },
    {
     "data": {
      "image/png": "[encoded data removed]",
      "text/plain": [
       "<Figure size 432x288 with 1 Axes>"
      ]
     },
     "metadata": {},
     "output_type": "display_data"
    }
   ],
   "source": [
    "# n_neighbors = 5\n",
    "num_n = 30\n",
    "num_av = 20\n",
    "scm = np.zeros(num_n)\n",
    "sc = np.zeros(num_av)\n",
    "for n in range(1, num_n + 1):\n",
    "    print (n)\n",
    "    for i in range(num_av):\n",
    "        print (n, ' ', i)\n",
    "        X_train, X_test, y_train, y_test = train_test_split(mnist.data, mnist.target, test_size=0.001, stratify=mnist.target)\n",
    "        my_clf = MyKNeighborsClassifier(n_neighbors=n)\n",
    "        my_clf.fit(X_train, y_train)\n",
    "        sc[i] = my_clf.score(X_test, y_test)\n",
    "    scm[n - 1] = sc.mean()\n",
    "plt.plot(range(1, num_n + 1), scm, 'ro-')\n",
    "plt.show()"
   ]
  },
  {
   "cell_type": "code",
   "execution_count": 524,
   "metadata": {},
   "outputs": [
    {
     "name": "stdout",
     "output_type": "stream",
     "text": [
      "1\n"
     ]
    }
   ],
   "source": [
    "print (1)"
   ]
  },
  {
   "cell_type": "markdown",
   "metadata": {},
   "source": [
    "Задание 5"
   ]
  },
  {
   "cell_type": "code",
   "execution_count": null,
   "metadata": {},
   "outputs": [],
   "source": [
    "# seaborn - красивые и простые в написании графики и визуализация\n",
    "# matplotlib - более сложные в написании и более функциональные, чем seaborn\n",
    "# train_test_split - разбиение данных на обучающую и тестовую часть\n",
    "# Pipelin%load_ext e (from sklearn.pipeline import Pipeline) - конвейерный классификатор\n",
    "# StandardScaler (from sklearn.preprocessing import StandardScaler) - нормировка\n",
    "# ClassifierMixin - общий Mixin для классификаторов, в нем реализован score\n",
    "# NeighborsBase - базовый класс Knn\n",
    "# KNeighborsMixin - Mixin содержащий метод поиска ближайших соседей\n",
    "# SupervisedIntegerMixin - Mixin с функцией fit для установления соответствия\n",
    "#                          между данными и целевыми переменными"
   ]
  }
 ],
 "metadata": {
  "kernelspec": {
   "display_name": "Python 3",
   "language": "python",
   "name": "python3"
  },
  "language_info": {
   "codemirror_mode": {
    "name": "ipython",
    "version": 3
   },
   "file_extension": ".py",
   "mimetype": "text/x-python",
   "name": "python",
   "nbconvert_exporter": "python",
   "pygments_lexer": "ipython3",
   "version": "3.6.4"
  }
 },
 "nbformat": 4,
 "nbformat_minor": 2
}
